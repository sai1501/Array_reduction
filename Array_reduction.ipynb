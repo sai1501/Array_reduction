{
 "cells": [
  {
   "cell_type": "code",
   "execution_count": 1,
   "id": "57e2b557",
   "metadata": {},
   "outputs": [
    {
     "name": "stdout",
     "output_type": "stream",
     "text": [
      "4\n",
      "1 2 3 4\n",
      "19\n"
     ]
    }
   ],
   "source": [
    "import math\n",
    "import os\n",
    "import random\n",
    "import re\n",
    "import sys\n",
    "\n",
    "# The function accepts an integer array\n",
    "# The function returns an integer\n",
    "\n",
    "def reductionCost(num):\n",
    "    \n",
    "    # An empty list\n",
    "    Cost = [ ]\n",
    "    \n",
    "    # while length of array num greater than 1\n",
    "    while len(num) > 1:\n",
    "        num.sort()            # Sorting an array num\n",
    "        sm = num[0]+num[1]    # adding first two values(two minimum values) of sorted array to find minimum cost\n",
    "        \n",
    "        # remove two minimum elements and append minimum cost\n",
    "        num = num[2:] \n",
    "        num.append(sm)\n",
    "        \n",
    "        #add cost of each reduction to list Cost\n",
    "        Cost.append(sm)\n",
    "        \n",
    "    # return •\tSum up the Cost of each reduction.\n",
    "    return sum(Cost)\n",
    "        \n",
    "if __name__ == '__main__':\n",
    "    N = int(input())\n",
    "    num = list(map(int,input().strip().split()))\n",
    "    mincost = reductionCost(num)\n",
    "    print(mincost)"
   ]
  },
  {
   "cell_type": "code",
   "execution_count": null,
   "id": "a90d974a",
   "metadata": {},
   "outputs": [],
   "source": []
  }
 ],
 "metadata": {
  "kernelspec": {
   "display_name": "Python 3",
   "language": "python",
   "name": "python3"
  },
  "language_info": {
   "codemirror_mode": {
    "name": "ipython",
    "version": 3
   },
   "file_extension": ".py",
   "mimetype": "text/x-python",
   "name": "python",
   "nbconvert_exporter": "python",
   "pygments_lexer": "ipython3",
   "version": "3.8.8"
  }
 },
 "nbformat": 4,
 "nbformat_minor": 5
}
